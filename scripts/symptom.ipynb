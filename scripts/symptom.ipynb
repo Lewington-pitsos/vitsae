{
 "cells": [
  {
   "cell_type": "code",
   "execution_count": null,
   "metadata": {},
   "outputs": [],
   "source": [
    "import boto3\n",
    "from torch.utils.data import DataLoader\n",
    "import torch\n",
    "import os\n",
    "import json\n",
    "from tqdm import tqdm\n",
    "from PIL import Image\n",
    "import matplotlib.pyplot as plt\n",
    "import sys\n",
    "\n",
    "sys.path.append(os.path.dirname(os.path.dirname(os.path.abspath('.'))))\n",
    "\n",
    "from sache import SpecifiedHookedViT\n",
    "from vitact.filedataset import FilePathDataset\n",
    "from vitact.download import download_laion\n",
    "from vitact.top9 import download_sae_checkpoints"
   ]
  },
  {
   "cell_type": "code",
   "execution_count": null,
   "metadata": {},
   "outputs": [],
   "source": [
    "locations = [(2, \"resid\")]\n",
    "transformer_name = \"laion/CLIP-ViT-L-14-laion2B-s32B-b82K\"\n",
    "device = \"cuda\"\n",
    "transformer = SpecifiedHookedViT(locations, transformer_name, device=device)\n"
   ]
  },
  {
   "cell_type": "code",
   "execution_count": null,
   "metadata": {},
   "outputs": [],
   "source": [
    "sae_checkpoints = [\n",
    "        's3://sae-activations/log/CLIP-ViT-L-14/2_resid/2_resid_29c579/600023040.pt',\n",
    "]\n",
    "sae_paths = download_sae_checkpoints(sae_checkpoints, base_dir='cruft')"
   ]
  },
  {
   "cell_type": "code",
   "execution_count": null,
   "metadata": {},
   "outputs": [],
   "source": [
    "sae = torch.load(sae_paths[0], map_location=device)"
   ]
  },
  {
   "cell_type": "code",
   "execution_count": null,
   "metadata": {},
   "outputs": [],
   "source": []
  },
  {
   "cell_type": "code",
   "execution_count": null,
   "metadata": {},
   "outputs": [],
   "source": [
    "\n",
    "# Prepare locations and load SAEs\n",
    "    \n",
    "    sae_dict[location] = sae\n",
    "\n",
    "if not os.path.exists(image_dir):\n",
    "    os.makedirs(image_dir)\n",
    "\n",
    "num_features_dict = {}\n",
    "topk_values_dict = {}\n",
    "topk_indices_dict = {}\n",
    "cumulative_file_paths = []\n",
    "cumulative_index = 0\n",
    "\n",
    "with torch.no_grad():\n",
    "    for i, (paths, batch) in tqdm(enumerate(dataloader), total=n_activations // batch_size):\n",
    "        activations = transformer.all_activations(batch)\n",
    "        current_batch_size = batch.size(0)  # Avoid shadowing the outer batch_size\n",
    "        current_indices = torch.arange(cumulative_index, cumulative_index + current_batch_size, dtype=torch.long, device=device)\n",
    "        cumulative_index += current_batch_size\n",
    "\n",
    "        cumulative_file_paths.extend(paths)\n",
    "\n",
    "        for location in locations:\n",
    "            layer, hook_name = location\n",
    "            sae = sae_dict[location]\n",
    "            activation = activations[location]\n",
    "            activation = activation[:, 1]\n",
    "\n",
    "            latent = sae.forward_descriptive(activation)['latent']\n",
    "            latent = latent.detach()"
   ]
  }
 ],
 "metadata": {
  "language_info": {
   "name": "python"
  }
 },
 "nbformat": 4,
 "nbformat_minor": 2
}
